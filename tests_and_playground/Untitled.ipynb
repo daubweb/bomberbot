{
 "cells": [
  {
   "cell_type": "code",
   "execution_count": 1,
   "id": "fd62eda9-0b21-48a6-ac33-600c3c858e9b",
   "metadata": {},
   "outputs": [],
   "source": [
    "import numpy as np\n",
    "from pprint import pprint\n",
    "from pprint import pprint\n",
    "from collections import defaultdict"
   ]
  },
  {
   "cell_type": "code",
   "execution_count": 17,
   "id": "7b08f4c0-60c3-4a84-b8a5-afffc48e6697",
   "metadata": {},
   "outputs": [],
   "source": [
    "x_width = 17\n",
    "y_width = 17"
   ]
  },
  {
   "cell_type": "code",
   "execution_count": 18,
   "id": "2c834ebc-38d7-41d1-bf83-2af2e6589dd9",
   "metadata": {},
   "outputs": [],
   "source": [
    "board = np.zeros((x_width,y_width))\n",
    "board[:,-1] = -1\n",
    "board[0,:] = -1\n",
    "board[-1,:] = -1\n",
    "board[:,0] = -1\n",
    "board[:-1:2,:-2:2] = -1"
   ]
  },
  {
   "cell_type": "code",
   "execution_count": null,
   "id": "031793b6-746a-41a5-833e-470e1d328edc",
   "metadata": {},
   "outputs": [],
   "source": []
  },
  {
   "cell_type": "code",
   "execution_count": 19,
   "id": "2a1aa9cf-e09d-481e-9bfc-e411a368457c",
   "metadata": {},
   "outputs": [
    {
     "name": "stdout",
     "output_type": "stream",
     "text": [
      "[-1. -1. -1. -1. -1. -1. -1. -1. -1. -1. -1. -1. -1. -1. -1. -1. -1.]\n",
      "[-1.  0.  0.  0.  0.  0.  0.  0.  0.  0.  0.  0.  0.  0.  0.  0. -1.]\n",
      "[-1.  0. -1.  0. -1.  0. -1.  0. -1.  0. -1.  0. -1.  0. -1.  0. -1.]\n",
      "[-1.  0.  0.  0.  0.  0.  0.  0.  0.  0.  0.  0.  0.  0.  0.  0. -1.]\n",
      "[-1.  0. -1.  0. -1.  0. -1.  0. -1.  0. -1.  0. -1.  0. -1.  0. -1.]\n",
      "[-1.  0.  0.  0.  0.  0.  0.  0.  0.  0.  0.  0.  0.  0.  0.  0. -1.]\n",
      "[-1.  0. -1.  0. -1.  0. -1.  0. -1.  0. -1.  0. -1.  0. -1.  0. -1.]\n",
      "[-1.  0.  0.  0.  0.  0.  0.  0.  0.  0.  0.  0.  0.  0.  0.  0. -1.]\n",
      "[-1.  0. -1.  0. -1.  0. -1.  0. -1.  0. -1.  0. -1.  0. -1.  0. -1.]\n",
      "[-1.  0.  0.  0.  0.  0.  0.  0.  0.  0.  0.  0.  0.  0.  0.  0. -1.]\n",
      "[-1.  0. -1.  0. -1.  0. -1.  0. -1.  0. -1.  0. -1.  0. -1.  0. -1.]\n",
      "[-1.  0.  0.  0.  0.  0.  0.  0.  0.  0.  0.  0.  0.  0.  0.  0. -1.]\n",
      "[-1.  0. -1.  0. -1.  0. -1.  0. -1.  0. -1.  0. -1.  0. -1.  0. -1.]\n",
      "[-1.  0.  0.  0.  0.  0.  0.  0.  0.  0.  0.  0.  0.  0.  0.  0. -1.]\n",
      "[-1.  0. -1.  0. -1.  0. -1.  0. -1.  0. -1.  0. -1.  0. -1.  0. -1.]\n",
      "[-1.  0.  0.  0.  0.  0.  0.  0.  0.  0.  0.  0.  0.  0.  0.  0. -1.]\n",
      "[-1. -1. -1. -1. -1. -1. -1. -1. -1. -1. -1. -1. -1. -1. -1. -1. -1.]\n"
     ]
    }
   ],
   "source": [
    "for i in range(board.shape[0]):\n",
    "    print(board[i])\n",
    "\n"
   ]
  },
  {
   "cell_type": "code",
   "execution_count": 37,
   "id": "03ad791c-f8aa-4192-a546-eedb7ea41f99",
   "metadata": {},
   "outputs": [],
   "source": [
    "def get_actions_from_coordinate(c: tuple):\n",
    "    x = c[0]\n",
    "    y = c[1]\n",
    "    \n",
    "    next_to_me = defaultdict()\n",
    "    next_to_me[\"LEFT\"] = board[x-1][y]\n",
    "    next_to_me[\"RIGHT\"] = board[x+1][y]\n",
    "    next_to_me[\"DOWN\"] = board[x][y + 1]\n",
    "    next_to_me[\"UP\"] = board[x][y-1]\n",
    "    \n",
    "    return [key for key, value in next_to_me.items() if value == 0]"
   ]
  },
  {
   "cell_type": "code",
   "execution_count": 38,
   "id": "bca0fe5a-fcdc-4db9-b9cd-09e291a3b458",
   "metadata": {},
   "outputs": [
    {
     "data": {
      "text/plain": [
       "['LEFT', 'RIGHT']"
      ]
     },
     "execution_count": 38,
     "metadata": {},
     "output_type": "execute_result"
    }
   ],
   "source": [
    "get_actions_from_coordinate((4,1))"
   ]
  },
  {
   "cell_type": "code",
   "execution_count": 39,
   "id": "643658ca-8935-4c9d-9e52-f2cb3924ff5a",
   "metadata": {},
   "outputs": [],
   "source": [
    "def set_pos(c:tuple):\n",
    "    board[c[0]][c[1]] = 0.1"
   ]
  },
  {
   "cell_type": "code",
   "execution_count": 40,
   "id": "d2268611-154b-4efb-bb8e-9808ca0cb74c",
   "metadata": {},
   "outputs": [
    {
     "data": {
      "text/plain": [
       "<matplotlib.image.AxesImage at 0x245d7119180>"
      ]
     },
     "execution_count": 40,
     "metadata": {},
     "output_type": "execute_result"
    },
    {
     "data": {
      "image/png": "[encoded data removed]",
      "text/plain": [
       "<Figure size 432x288 with 1 Axes>"
      ]
     },
     "metadata": {
      "needs_background": "light"
     },
     "output_type": "display_data"
    }
   ],
   "source": [
    "import matplotlib.pyplot as plt\n",
    "plt.imshow(board)"
   ]
  },
  {
   "cell_type": "code",
   "execution_count": 24,
   "id": "8d7245c1-d013-4577-9a10-ec380f8f6796",
   "metadata": {},
   "outputs": [
    {
     "data": {
      "text/plain": [
       "set"
      ]
     },
     "execution_count": 24,
     "metadata": {},
     "output_type": "execute_result"
    }
   ],
   "source": []
  },
  {
   "cell_type": "code",
   "execution_count": null,
   "id": "3e33cfd1-eb39-417b-9a00-f08768064fcd",
   "metadata": {},
   "outputs": [],
   "source": []
  }
 ],
 "metadata": {
  "kernelspec": {
   "display_name": "Python 3 (ipykernel)",
   "language": "python",
   "name": "python3"
  },
  "language_info": {
   "codemirror_mode": {
    "name": "ipython",
    "version": 3
   },
   "file_extension": ".py",
   "mimetype": "text/x-python",
   "name": "python",
   "nbconvert_exporter": "python",
   "pygments_lexer": "ipython3",
   "version": "3.10.0"
  }
 },
 "nbformat": 4,
 "nbformat_minor": 5
}
