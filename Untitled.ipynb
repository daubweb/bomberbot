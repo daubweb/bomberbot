{
 "cells": [
  {
   "cell_type": "code",
   "execution_count": 3,
   "id": "fd62eda9-0b21-48a6-ac33-600c3c858e9b",
   "metadata": {},
   "outputs": [],
   "source": [
    "import numpy as np\n",
    "from pprint import pprint\n",
    "from pprint import pprint"
   ]
  },
  {
   "cell_type": "code",
   "execution_count": 36,
   "id": "7b08f4c0-60c3-4a84-b8a5-afffc48e6697",
   "metadata": {},
   "outputs": [],
   "source": [
    "x_width = 15\n",
    "y_width = 15"
   ]
  },
  {
   "cell_type": "code",
   "execution_count": 68,
   "id": "2c834ebc-38d7-41d1-bf83-2af2e6589dd9",
   "metadata": {},
   "outputs": [],
   "source": [
    "board = np.zeros((x_width,y_width))\n",
    "board[:,-1] = -1\n",
    "board[0,:] = -1\n",
    "board[-1,:] = -1\n",
    "board[:,0] = -1\n",
    "board[:-1:2,0:-1:2] = -1"
   ]
  },
  {
   "cell_type": "code",
   "execution_count": null,
   "id": "031793b6-746a-41a5-833e-470e1d328edc",
   "metadata": {},
   "outputs": [],
   "source": []
  },
  {
   "cell_type": "code",
   "execution_count": 69,
   "id": "2a1aa9cf-e09d-481e-9bfc-e411a368457c",
   "metadata": {},
   "outputs": [
    {
     "name": "stdout",
     "output_type": "stream",
     "text": [
      "[-1. -1. -1. -1. -1. -1. -1. -1. -1. -1. -1. -1. -1. -1. -1.]\n",
      "[-1.  0.  0.  0.  0.  0.  0.  0.  0.  0.  0.  0.  0.  0. -1.]\n",
      "[-1.  0. -1.  0. -1.  0. -1.  0. -1.  0. -1.  0. -1.  0. -1.]\n",
      "[-1.  0.  0.  0.  0.  0.  0.  0.  0.  0.  0.  0.  0.  0. -1.]\n",
      "[-1.  0. -1.  0. -1.  0. -1.  0. -1.  0. -1.  0. -1.  0. -1.]\n",
      "[-1.  0.  0.  0.  0.  0.  0.  0.  0.  0.  0.  0.  0.  0. -1.]\n",
      "[-1.  0. -1.  0. -1.  0. -1.  0. -1.  0. -1.  0. -1.  0. -1.]\n",
      "[-1.  0.  0.  0.  0.  0.  0.  0.  0.  0.  0.  0.  0.  0. -1.]\n",
      "[-1.  0. -1.  0. -1.  0. -1.  0. -1.  0. -1.  0. -1.  0. -1.]\n",
      "[-1.  0.  0.  0.  0.  0.  0.  0.  0.  0.  0.  0.  0.  0. -1.]\n",
      "[-1.  0. -1.  0. -1.  0. -1.  0. -1.  0. -1.  0. -1.  0. -1.]\n",
      "[-1.  0.  0.  0.  0.  0.  0.  0.  0.  0.  0.  0.  0.  0. -1.]\n",
      "[-1.  0. -1.  0. -1.  0. -1.  0. -1.  0. -1.  0. -1.  0. -1.]\n",
      "[-1.  0.  0.  0.  0.  0.  0.  0.  0.  0.  0.  0.  0.  0. -1.]\n",
      "[-1. -1. -1. -1. -1. -1. -1. -1. -1. -1. -1. -1. -1. -1. -1.]\n"
     ]
    }
   ],
   "source": [
    "for i in range(board.shape[0]):\n",
    "    print(board[i])\n",
    "    "
   ]
  },
  {
   "cell_type": "code",
   "execution_count": null,
   "id": "03ad791c-f8aa-4192-a546-eedb7ea41f99",
   "metadata": {},
   "outputs": [],
   "source": []
  },
  {
   "cell_type": "code",
   "execution_count": null,
   "id": "bca0fe5a-fcdc-4db9-b9cd-09e291a3b458",
   "metadata": {},
   "outputs": [],
   "source": []
  }
 ],
 "metadata": {
  "kernelspec": {
   "display_name": "Python 3 (ipykernel)",
   "language": "python",
   "name": "python3"
  },
  "language_info": {
   "codemirror_mode": {
    "name": "ipython",
    "version": 3
   },
   "file_extension": ".py",
   "mimetype": "text/x-python",
   "name": "python",
   "nbconvert_exporter": "python",
   "pygments_lexer": "ipython3",
   "version": "3.10.0"
  }
 },
 "nbformat": 4,
 "nbformat_minor": 5
}
